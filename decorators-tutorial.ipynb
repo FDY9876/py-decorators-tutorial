{
 "cells": [
  {
   "cell_type": "markdown",
   "metadata": {},
   "source": [
    "Copyright 2016 Google Inc. All Rights Reserved.\n",
    "\n",
    "Licensed under the Apache License, Version 2.0 (the \"License\");\n",
    "you may not use this file except in compliance with the License.\n",
    "You may obtain a copy of the License at\n",
    "\n",
    "    http://www.apache.org/licenses/LICENSE-2.0\n",
    "\n",
    "Unless required by applicable law or agreed to in writing, software\n",
    "distributed under the License is distributed on an \"AS IS\" BASIS,\n",
    "WITHOUT WARRANTIES OR CONDITIONS OF ANY KIND, either express or implied.\n",
    "See the License for the specific language governing permissions and\n",
    "limitations under the License."
   ]
  },
  {
   "cell_type": "markdown",
   "metadata": {},
   "source": [
    "# Basics"
   ]
  },
  {
   "cell_type": "markdown",
   "metadata": {},
   "source": [
    "There's lots of guides out there on decorators ([this](http://thecodeship.com/patterns/guide-to-python-function-decorators/) one is good), but I was never really sure when I would need to use decorators. Hopefully this will help motivate them a little more. Here I hope to show you:\n",
    "\n",
    "* When decorators might come in handy\n",
    "* How to write one\n",
    "* How to generalize using `*args` and `**kwargs` sorcery. \n",
    "\n",
    "You should read this if:\n",
    "\n",
    "* You've heard of decorators and want to know more about them, and/or\n",
    "* You want to know what `*args` and `**kwargs` mean.\n",
    "\n",
    "If you're here just for `*args` and `**kwargs`, start reading [here](#args)."
   ]
  },
  {
   "cell_type": "markdown",
   "metadata": {},
   "source": [
    "## Motivation\n",
    "\n",
    "Let's say you're defining methods on numbers:"
   ]
  },
  {
   "cell_type": "code",
   "execution_count": 1,
   "metadata": {
    "collapsed": true
   },
   "outputs": [],
   "source": [
    "def add(n1, n2):\n",
    "    return n1 + n2\n",
    "\n",
    "def multiply(n1, n2):\n",
    "    return n1 * n2\n",
    "\n",
    "def exponentiate(n1, n2):\n",
    "    \"\"\"Raise n1 to the power of n2\"\"\"\n",
    "    import math\n",
    "    return math.pow(n1, n2)"
   ]
  },
  {
   "cell_type": "markdown",
   "metadata": {},
   "source": [
    "Well, we only want these functions to work if both inputs are numbers. So we could do:"
   ]
  },
  {
   "cell_type": "code",
   "execution_count": 2,
   "metadata": {
    "collapsed": true
   },
   "outputs": [],
   "source": [
    "def is_number(n):\n",
    "    \"\"\"Return True iff n is a number.\"\"\"\n",
    "    # A number can always be converted to a float\n",
    "    try:\n",
    "        float(n)\n",
    "        return True\n",
    "    except ValueError:\n",
    "        return False\n",
    "    \n",
    "def add(n1, n2):\n",
    "    if not (is_number(n1) and is_number(n2)):\n",
    "        print(\"arguments must be numbers!\")\n",
    "        return\n",
    "    return n1 + n2\n",
    "\n",
    "def multiply(n1, n2):\n",
    "    if not (is_number(n1) and is_number(n2)):\n",
    "        print(\"arguments must be numbers!\")\n",
    "        return\n",
    "    return n1 * n2\n",
    "\n",
    "def exponentiate(n1, n2):\n",
    "    \"\"\"Raise n1 to the power of n2\"\"\"\n",
    "    if not (is_number(n1) and is_number(n2)):\n",
    "        print(\"arguments must be numbers!\")\n",
    "        return\n",
    "    import math\n",
    "    return math.pow(n1, n2)"
   ]
  },
  {
   "cell_type": "markdown",
   "metadata": {},
   "source": [
    "But this is yucky: we had to copy and paste code. This should always make you sad! For example, what if you wanted to change the message slightly? Or to return an error instead? You'd have to change it everywhere it appears... \n",
    "\n",
    "We want the copy & pasted code to live in just one place, so any changes just go there (DRY code: Don't Repeat Yourself). So let's **refactor**. "
   ]
  },
  {
   "cell_type": "code",
   "execution_count": 3,
   "metadata": {
    "collapsed": true
   },
   "outputs": [],
   "source": [
    "def validate_arguments(n1, n2):\n",
    "    \"\"\"\n",
    "    Returns True if n1 and n2 are both numbers.\n",
    "    \"\"\"\n",
    "    if not (is_number(n1) and is_number(n2)):\n",
    "        print(\"arguments must be numbers!\")\n",
    "        return False\n",
    "    return True\n",
    "\n",
    "def add(n1, n2):\n",
    "    if validate_arguments(n1, n2):\n",
    "        return n1 + n2\n",
    "\n",
    "def multiply(n1, n2):\n",
    "    if validate_arguments(n1, n2):\n",
    "        return n1 * n2\n",
    "\n",
    "def exponentiate(n1, n2):\n",
    "    \"\"\"Raise n1 to the power of n2\"\"\"\n",
    "    if validate_arguments(n1, n2):\n",
    "        import math\n",
    "        return math.pow(n1, n2)"
   ]
  },
  {
   "cell_type": "markdown",
   "metadata": {},
   "source": [
    "This is definitely better. But there's still some repeated logic. Like, what if we want to return an error if we don't get numbers, or print something before running the code? We'd still have to make the changes in multiple places. The code isn't DRY. "
   ]
  },
  {
   "cell_type": "markdown",
   "metadata": {},
   "source": [
    "## Basic decorators\n",
    "\n",
    "We can refactor further with the **decorator pattern**.\n",
    "\n",
    "We want to write something that looks like\n",
    "    \n",
    "    @decorator\n",
    "    def add(n1, n2):\n",
    "        return n1 + n2\n",
    "\n",
    "so that all the logic about validating `n1` and `n2` lives in one place, and the functions just do what we want them to do. \n",
    "        \n",
    "Since the @ syntax just means `add = decorator(add)`, we know the decorator needs to take a function as an argument, and it needs to return a function. (This should be confusing at first. Functions returning functions are scary, but think about it until that doesn't seem outlandish to you.)\n",
    "\n",
    "This returned function should act the same way as `add`, so it should take two arguments. And within this returned function, we want to first check that the arguments are numbers. If they are, we want to call the original function that we decorated (in this case, `add`). If not, we don't want to do anything. Here's what that looks like (there's a lot here, so use the comments to understand what's happening):"
   ]
  },
  {
   "cell_type": "code",
   "execution_count": 4,
   "metadata": {
    "collapsed": true
   },
   "outputs": [],
   "source": [
    "# The decorator: takes a function.\n",
    "def validate_decorator(func):\n",
    "    # The decorator will be returning wrapped_func, a function that has the \n",
    "    # same signature as add, multiply, etc.\n",
    "    def wrapped_func(n1, n2):\n",
    "        for arg in [n1, n2]:\n",
    "            # If we don't have a number, we don't want to run the function. \n",
    "            # Best practice (\"be explicit\") is to raise an error here \n",
    "            # instead of just returning None.\n",
    "            if not is_number(arg):\n",
    "                raise Exception(\"arguments must be numbers!\")\n",
    "        # We've passed our checks, so we can call the function with the passed in arguments.\n",
    "        # If you like, think of this as\n",
    "        #   result = func(n1, n2)\n",
    "        #   return result\n",
    "        # to distinguish it from the outer return where we're returning a function.\n",
    "        return func(n1, n2)\n",
    "    # This is where we return the function that has the same signature.\n",
    "    return wrapped_func"
   ]
  },
  {
   "cell_type": "code",
   "execution_count": 5,
   "metadata": {
    "collapsed": false
   },
   "outputs": [
    {
     "name": "stdout",
     "output_type": "stream",
     "text": [
      "4\n"
     ]
    },
    {
     "ename": "Exception",
     "evalue": "arguments must be numbers!",
     "output_type": "error",
     "traceback": [
      "\u001b[0;31m---------------------------------------------------------------------------\u001b[0m",
      "\u001b[0;31mException\u001b[0m                                 Traceback (most recent call last)",
      "\u001b[0;32m<ipython-input-5-116595f9c782>\u001b[0m in \u001b[0;36m<module>\u001b[0;34m()\u001b[0m\n\u001b[1;32m      6\u001b[0m \u001b[0;34m\u001b[0m\u001b[0m\n\u001b[1;32m      7\u001b[0m \u001b[0;32mprint\u001b[0m\u001b[0;34m(\u001b[0m\u001b[0madd\u001b[0m\u001b[0;34m(\u001b[0m\u001b[0;36m1\u001b[0m\u001b[0;34m,\u001b[0m \u001b[0;36m3\u001b[0m\u001b[0;34m)\u001b[0m\u001b[0;34m)\u001b[0m\u001b[0;34m\u001b[0m\u001b[0m\n\u001b[0;32m----> 8\u001b[0;31m \u001b[0;32mprint\u001b[0m\u001b[0;34m(\u001b[0m\u001b[0madd\u001b[0m\u001b[0;34m(\u001b[0m\u001b[0;36m2\u001b[0m\u001b[0;34m,\u001b[0m \u001b[0;34m'hi'\u001b[0m\u001b[0;34m)\u001b[0m\u001b[0;34m)\u001b[0m\u001b[0;34m\u001b[0m\u001b[0m\n\u001b[0m",
      "\u001b[0;32m<ipython-input-4-c5a2356bebc5>\u001b[0m in \u001b[0;36mwrapped_func\u001b[0;34m(n1, n2)\u001b[0m\n\u001b[1;32m      9\u001b[0m             \u001b[0;31m# instead of just returning None.\u001b[0m\u001b[0;34m\u001b[0m\u001b[0;34m\u001b[0m\u001b[0m\n\u001b[1;32m     10\u001b[0m             \u001b[0;32mif\u001b[0m \u001b[0;32mnot\u001b[0m \u001b[0mis_number\u001b[0m\u001b[0;34m(\u001b[0m\u001b[0marg\u001b[0m\u001b[0;34m)\u001b[0m\u001b[0;34m:\u001b[0m\u001b[0;34m\u001b[0m\u001b[0m\n\u001b[0;32m---> 11\u001b[0;31m                 \u001b[0;32mraise\u001b[0m \u001b[0mException\u001b[0m\u001b[0;34m(\u001b[0m\u001b[0;34m\"arguments must be numbers!\"\u001b[0m\u001b[0;34m)\u001b[0m\u001b[0;34m\u001b[0m\u001b[0m\n\u001b[0m\u001b[1;32m     12\u001b[0m         \u001b[0;31m# We've passed our checks, so we can call the function with the passed in arguments.\u001b[0m\u001b[0;34m\u001b[0m\u001b[0;34m\u001b[0m\u001b[0m\n\u001b[1;32m     13\u001b[0m         \u001b[0;31m# If you like, think of this as\u001b[0m\u001b[0;34m\u001b[0m\u001b[0;34m\u001b[0m\u001b[0m\n",
      "\u001b[0;31mException\u001b[0m: arguments must be numbers!"
     ]
    }
   ],
   "source": [
    "@validate_decorator\n",
    "def add(n1, n2):\n",
    "    return n1 + n2\n",
    "# Don't forget, the @ syntax just means\n",
    "# add = validate_decorator(add)\n",
    "\n",
    "print(add(1, 3))\n",
    "print(add(2, 'hi'))"
   ]
  },
  {
   "cell_type": "markdown",
   "metadata": {},
   "source": [
    "This pattern is nice because we've even refactored out all the validation logic (even the \"if blah then blah\" part) into the decorator. "
   ]
  },
  {
   "cell_type": "markdown",
   "metadata": {},
   "source": [
    "## Generalizing with \\*args and \\**kwargs\n",
    "\n",
    "What if we want to validate a function that has a different number of arguments?"
   ]
  },
  {
   "cell_type": "code",
   "execution_count": 6,
   "metadata": {
    "collapsed": false
   },
   "outputs": [
    {
     "ename": "TypeError",
     "evalue": "wrapped_func() takes exactly 2 arguments (3 given)",
     "output_type": "error",
     "traceback": [
      "\u001b[0;31m---------------------------------------------------------------------------\u001b[0m",
      "\u001b[0;31mTypeError\u001b[0m                                 Traceback (most recent call last)",
      "\u001b[0;32m<ipython-input-6-29c0bd5823fe>\u001b[0m in \u001b[0;36m<module>\u001b[0;34m()\u001b[0m\n\u001b[1;32m      3\u001b[0m     \u001b[0;32mreturn\u001b[0m \u001b[0mn1\u001b[0m \u001b[0;34m+\u001b[0m \u001b[0mn2\u001b[0m \u001b[0;34m+\u001b[0m \u001b[0mn3\u001b[0m\u001b[0;34m\u001b[0m\u001b[0m\n\u001b[1;32m      4\u001b[0m \u001b[0;34m\u001b[0m\u001b[0m\n\u001b[0;32m----> 5\u001b[0;31m \u001b[0madd3\u001b[0m\u001b[0;34m(\u001b[0m\u001b[0;36m1\u001b[0m\u001b[0;34m,\u001b[0m \u001b[0;36m2\u001b[0m\u001b[0;34m,\u001b[0m \u001b[0;36m3\u001b[0m\u001b[0;34m)\u001b[0m\u001b[0;34m\u001b[0m\u001b[0m\n\u001b[0m",
      "\u001b[0;31mTypeError\u001b[0m: wrapped_func() takes exactly 2 arguments (3 given)"
     ]
    }
   ],
   "source": [
    "@validate_decorator  # Won't work!\n",
    "def add3(n1, n2, n3):\n",
    "    return n1 + n2 + n3\n",
    "\n",
    "add3(1, 2, 3)"
   ]
  },
  {
   "cell_type": "markdown",
   "metadata": {},
   "source": [
    "We can't decorate this because the wrapped function expects 2 arguments. \n",
    "\n",
    "Here's where we use the `*` symbol. I'll write out the code so you can see how it looks, and we'll look at what `*args` is doing below. "
   ]
  },
  {
   "cell_type": "code",
   "execution_count": 7,
   "metadata": {
    "collapsed": true
   },
   "outputs": [],
   "source": [
    "# The decorator: takes a function.\n",
    "def validate_decorator(func):\n",
    "    # Note the *args! Think of this as representing \"as many arguments as you want\". \n",
    "    # So this function will take an arbitrary number of arguments.\n",
    "    def wrapped_func(*args):\n",
    "        # We just want to apply the check to each argument.\n",
    "        for arg in args:\n",
    "            if not is_number(arg):\n",
    "                raise Exception(\"arguments must be numbers!\")\n",
    "        # We've passed our checks, so we can call the function with the \n",
    "        # passed-in arguments.\n",
    "        # Right now, args is a tuple of all the different arguments passed in \n",
    "        # (more explanation below), so we want to expand them back out when \n",
    "        # calling the function.\n",
    "        return func(*args)\n",
    "    return wrapped_func"
   ]
  },
  {
   "cell_type": "code",
   "execution_count": 8,
   "metadata": {
    "collapsed": false
   },
   "outputs": [
    {
     "data": {
      "text/plain": [
       "6"
      ]
     },
     "execution_count": 8,
     "metadata": {},
     "output_type": "execute_result"
    }
   ],
   "source": [
    "@validate_decorator  # This works\n",
    "def add3(n1, n2, n3):\n",
    "    return n1 + n2 + n3\n",
    "\n",
    "add3(1, 2, 3)"
   ]
  },
  {
   "cell_type": "code",
   "execution_count": 9,
   "metadata": {
    "collapsed": false
   },
   "outputs": [
    {
     "name": "stdout",
     "output_type": "stream",
     "text": [
      "15\n",
      "45\n"
     ]
    }
   ],
   "source": [
    "@validate_decorator  # And so does this\n",
    "def addn(*args):\n",
    "    \"\"\"Add an arbitrary number of numbers together\"\"\"\n",
    "    cumu = 0\n",
    "    for arg in args:\n",
    "        cumu += arg\n",
    "    return cumu\n",
    "print(addn(1, 2, 3, 4, 5))\n",
    "# range(n) gives a list, so we expand the list into positional arguments...\n",
    "print(addn(*range(10)))"
   ]
  },
  {
   "cell_type": "markdown",
   "metadata": {},
   "source": [
    "### <a id='args'>`*args`</a>\n",
    "What is this `*` nonsense?\n",
    "\n",
    "You've probably seen `*args` and `**kwargs` in documentation before. Here's what they mean:\n",
    "\n",
    "* When calling a function, `*` **expands an iterable** into **positional arguments**. \n",
    "    * Terminology note: in a call like `bing(1, 'hi', name='fig')`, `1` is the first positional argument, `'hi'` is the second positional argument, and there's a keyword argument `'name'` with the value `'fig'`.\n",
    "* When defining a signature, `*args` represents an **arbitrary number of positional arguments**."
   ]
  },
  {
   "cell_type": "code",
   "execution_count": 10,
   "metadata": {
    "collapsed": false
   },
   "outputs": [
    {
     "name": "stdout",
     "output_type": "stream",
     "text": [
      "First call:\n",
      "foo args: (1, 2, 'a', 3, True)\n",
      "foo args type: <type 'tuple'>\n",
      "\n",
      "Second call:\n",
      "foo args: (1, 2, 'a', 3, True)\n",
      "foo args type: <type 'tuple'>\n"
     ]
    }
   ],
   "source": [
    "def foo(*args):\n",
    "    print(\"foo args: {}\".format(args))\n",
    "    print(\"foo args type: {}\".format(type(args)))\n",
    "    \n",
    "# So foo can take an arbitrary number of arguments\n",
    "print(\"First call:\")\n",
    "foo(1, 2, 'a', 3, True)\n",
    "\n",
    "# Which can be written using the * syntax to expand an iterable\n",
    "print(\"\\nSecond call:\")\n",
    "l = [1, 2, 'a', 3, True]\n",
    "foo(*l)"
   ]
  },
  {
   "cell_type": "markdown",
   "metadata": {},
   "source": [
    "### Back to the decorator\n",
    "(If you're just here for \\*args and \\*\\*kwargs, skip down to [here](#kwargs))\n",
    "\n",
    "So let's look at the decorator code again, minus the comments:\n",
    "\n",
    "    def validate_decorator(func):\n",
    "        def wrapped_func(*args):\n",
    "            for arg in args:\n",
    "                if not is_number(arg):\n",
    "                    print(\"arguments must be numbers!\")\n",
    "                    return\n",
    "            return func(*args)\n",
    "        return wrapped_func\n",
    "        \n",
    "* `def wrapped_func(*args)` says that `wrapped_func` can take an arbitrary number of arguments.\n",
    "* Within `wrapped_func`, we interact with `args` as a tuple containing all the (positional) arguments passed in. \n",
    "* If all the arguments are numbers, we call `func`, the function we decorated, by **expanding** the `args` tuple back out into positional arguments: `func(*args)`.\n",
    "* Finally the decorator needs to return a function (remember that the `@` syntax is just sugar for `add = decorator(add)`.\n",
    "\n",
    "Congrats, you now understand decorators! You can do tons of other stuff with them, but hopefully now you're equipped to read the other guides online. \n",
    "\n",
    "---\n",
    "\n",
    "### <a id='kwargs'>As for `**kwargs`:</a> \n",
    "* When calling a function, `**` **expands a dict** into **keyword arguments**.\n",
    "* When defining a signature, `**kwargs` represents an **arbitrary number of keyword arguments**."
   ]
  },
  {
   "cell_type": "code",
   "execution_count": 11,
   "metadata": {
    "collapsed": false
   },
   "outputs": [
    {
     "name": "stdout",
     "output_type": "stream",
     "text": [
      "First call:\n",
      "bar kwargs: {'age': None, 'location': 'US-PAO', 'ldap': 'awan'}\n",
      "\n",
      "Second call:\n",
      "bar kwargs: {'age': None, 'location': 'US-PAO', 'ldap': 'awan'}\n"
     ]
    }
   ],
   "source": [
    "def bar(**kwargs):\n",
    "    print(\"bar kwargs: {}\".format(kwargs))\n",
    "\n",
    "# bar takes an arbitrary number of keyword arguments\n",
    "print(\"First call:\")\n",
    "bar(location='US-PAO', ldap='awan', age=None)\n",
    "\n",
    "# Which can also be written using the ** syntax to expand a dict\n",
    "print(\"\\nSecond call:\")\n",
    "d = {'location': 'US-PAO', 'ldap': 'awan', 'age': None}\n",
    "bar(**d)"
   ]
  },
  {
   "cell_type": "markdown",
   "metadata": {},
   "source": [
    "And in case your head doesn't hurt yet, we can do both together:"
   ]
  },
  {
   "cell_type": "code",
   "execution_count": 12,
   "metadata": {
    "collapsed": false
   },
   "outputs": [
    {
     "name": "stdout",
     "output_type": "stream",
     "text": [
      "First call:\n",
      "baz args: (1, 3, 'hi'). kwargs: {'age': 37, 'name': 'Joe', 'occupation': 'Engineer'}\n",
      "\n",
      "Second call:\n",
      "baz args: (1, 3, 'hi'). kwargs: {'age': 37, 'name': 'Joe', 'occupation': 'Engineer'}\n"
     ]
    }
   ],
   "source": [
    "def baz(*args, **kwargs):\n",
    "    print(\"baz args: {}. kwargs: {}\".format(args, kwargs))\n",
    "    \n",
    "# Calling baz with a mixture of positional and keyword arguments\n",
    "print(\"First call:\")\n",
    "baz(1, 3, 'hi', name='Joe', age=37, occupation='Engineer')\n",
    "\n",
    "# Which is the same as\n",
    "print(\"\\nSecond call:\")\n",
    "l = [1, 3, 'hi']\n",
    "d = {'name': 'Joe', 'age': 37, 'occupation': 'Engineer'}\n",
    "baz(*l, **d)"
   ]
  },
  {
   "cell_type": "markdown",
   "metadata": {},
   "source": [
    "---\n",
    "# Advanced decorators\n",
    "\n",
    "This section will introduce some of the many other useful ways you can use decorators. \n",
    "## Decorators with arguments\n",
    "\n",
    "## Objects\n",
    "### Decorators that alter \"self\"\n",
    "### Decorating a class\n",
    "\n",
    "## functools.wraps\n",
    "## Returning a different function"
   ]
  }
 ],
 "metadata": {
  "kernelspec": {
   "display_name": "Python 2",
   "language": "python",
   "name": "python2"
  },
  "language_info": {
   "codemirror_mode": {
    "name": "ipython",
    "version": 2
   },
   "file_extension": ".py",
   "mimetype": "text/x-python",
   "name": "python",
   "nbconvert_exporter": "python",
   "pygments_lexer": "ipython2",
   "version": "2.7.8"
  }
 },
 "nbformat": 4,
 "nbformat_minor": 0
}
